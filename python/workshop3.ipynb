{
 "cells": [
  {
   "cell_type": "code",
   "execution_count": 7,
   "id": "71ab0f16",
   "metadata": {},
   "outputs": [
    {
     "name": "stdout",
     "output_type": "stream",
     "text": [
      "9\n",
      "27\n"
     ]
    }
   ],
   "source": [
    "# Function Factory    \n",
    "\n",
    "\n",
    "def rasie_to(number):\n",
    "    def inner(n):\n",
    "        return pow(n, number)\n",
    "    return inner\n",
    "\n",
    "\n",
    "square = rasie_to(number=2)\n",
    "print(square(n=3))\n",
    "\n",
    "\n",
    "cube = rasie_to(number=3)\n",
    "print(cube(n=3))\n"
   ]
  },
  {
   "cell_type": "code",
   "execution_count": 17,
   "id": "3beb1603",
   "metadata": {},
   "outputs": [
    {
     "name": "stdout",
     "output_type": "stream",
     "text": [
      "global\n",
      "enclosing\n",
      "local\n",
      "global\n"
     ]
    }
   ],
   "source": [
    "message = 'global'\n",
    "\n",
    "\n",
    "def enclosing():\n",
    "    message = 'enclosing'\n",
    "    \n",
    "    def local():\n",
    "        nonlocal message\n",
    "        message = 'local'\n",
    "    \n",
    "    print(message)\n",
    "    local()\n",
    "    print(message)\n",
    "\n",
    "    \n",
    "print(message)\n",
    "enclosing()\n",
    "print(message)\n",
    "\n"
   ]
  },
  {
   "cell_type": "code",
   "execution_count": 8,
   "id": "c5ee651c",
   "metadata": {},
   "outputs": [
    {
     "name": "stdout",
     "output_type": "stream",
     "text": [
      "global\n",
      "enclosing\n",
      "enclosing\n",
      "local\n"
     ]
    }
   ],
   "source": [
    "message = 'global'\n",
    "\n",
    "\n",
    "def enclosing():\n",
    "    message = 'enclosing'\n",
    "    \n",
    "    def local():\n",
    "        global message\n",
    "        message = 'local'\n",
    "    \n",
    "    print(message)\n",
    "    local()\n",
    "    print(message)\n",
    "\n",
    "    \n",
    "print(message)\n",
    "enclosing()\n",
    "print(message)\n"
   ]
  },
  {
   "cell_type": "code",
   "execution_count": 10,
   "id": "30837379",
   "metadata": {},
   "outputs": [
    {
     "name": "stdout",
     "output_type": "stream",
     "text": [
      "global\n",
      "enclosing\n",
      "local\n",
      "inner\n",
      "inner\n",
      "global\n"
     ]
    }
   ],
   "source": [
    "message = 'global'\n",
    "\n",
    "def enclosing():\n",
    "    message = 'enclosing'\n",
    "    \n",
    "    def local():\n",
    "        nonlocal message\n",
    "        message = 'local'\n",
    "        \n",
    "        def inner():\n",
    "            nonlocal message\n",
    "            message = 'inner'\n",
    "            \n",
    "        print(message)\n",
    "        inner()\n",
    "        print(message)\n",
    "    \n",
    "    print(message)\n",
    "    local()\n",
    "    print(message)\n",
    "\n",
    "    \n",
    "print(message)\n",
    "enclosing()\n",
    "print(message)\n"
   ]
  },
  {
   "cell_type": "code",
   "execution_count": 12,
   "id": "44f4c77d",
   "metadata": {},
   "outputs": [
    {
     "ename": "SyntaxError",
     "evalue": "no binding for nonlocal 'message' found (3588066314.py, line 9)",
     "output_type": "error",
     "traceback": [
      "\u001b[0;36m  File \u001b[0;32m\"/tmp/ipykernel_5343/3588066314.py\"\u001b[0;36m, line \u001b[0;32m9\u001b[0m\n\u001b[0;31m    nonlocal message\u001b[0m\n\u001b[0m    ^\u001b[0m\n\u001b[0;31mSyntaxError\u001b[0m\u001b[0;31m:\u001b[0m no binding for nonlocal 'message' found\n"
     ]
    }
   ],
   "source": [
    "message = 'global'\n",
    "\n",
    "def enclosing():\n",
    "    # nonlocal message\n",
    "    global message\n",
    "    message = 'enclosing'\n",
    "    \n",
    "    def local():\n",
    "        nonlocal message\n",
    "        message = 'local'\n",
    "        \n",
    "        def inner():\n",
    "            nonlocal message\n",
    "            message = 'inner'\n",
    "            \n",
    "        print(message) # 3\n",
    "        inner()\n",
    "        print(message) # 4\n",
    "    \n",
    "    print(message) # 2\n",
    "    local()\n",
    "    print(message) # 5\n",
    "\n",
    "    \n",
    "print(message) # 1\n",
    "enclosing()\n",
    "print(message) # 6\n"
   ]
  },
  {
   "cell_type": "code",
   "execution_count": 16,
   "id": "a158c983",
   "metadata": {},
   "outputs": [
    {
     "name": "stdout",
     "output_type": "stream",
     "text": [
      "10\n"
     ]
    }
   ],
   "source": [
    "def is_number(f):\n",
    "    return f\n",
    "\n",
    "\n",
    "@is_number\n",
    "def print_number(number):\n",
    "    print(number)\n",
    "    \n",
    "\n",
    "print_number(10)\n"
   ]
  },
  {
   "cell_type": "code",
   "execution_count": 20,
   "id": "d94b014d",
   "metadata": {},
   "outputs": [
    {
     "name": "stdout",
     "output_type": "stream",
     "text": [
      "before wrapper first\n",
      "before wrapper middle\n",
      "before hello last\n",
      "Hello\n",
      "after hello last\n",
      "after wrapper middle\n",
      "after wrapper first\n"
     ]
    }
   ],
   "source": [
    "def decorator(extra):\n",
    "    extra = f\" {extra}\"\n",
    "\n",
    "    def inner(func):\n",
    "        def wrapper(*args, **kwargs):\n",
    "            print(f\"before {func.__name__}{extra}\")\n",
    "            func(*args, **kwargs)\n",
    "            print(f\"after {func.__name__}{extra}\")\n",
    "        return wrapper\n",
    "    return inner\n",
    "\n",
    "\n",
    "@decorator('first')\n",
    "@decorator('middle')\n",
    "@decorator('last')\n",
    "def hello():\n",
    "    print('Hello')\n",
    "\n",
    "\n",
    "hello()"
   ]
  },
  {
   "cell_type": "code",
   "execution_count": 25,
   "id": "a8f4f11e",
   "metadata": {},
   "outputs": [
    {
     "name": "stdout",
     "output_type": "stream",
     "text": [
      "0\n"
     ]
    }
   ],
   "source": [
    "def is_non_zero(check):\n",
    "    def wrapper(f):\n",
    "        def inner(*args, **kwargs):\n",
    "            if check:\n",
    "                number = args[0]\n",
    "                if number == 0:\n",
    "                    raise ValueError('The number Is zero')\n",
    "            return f(*args, **kwargs)\n",
    "        return inner\n",
    "    return wrapper\n",
    "\n",
    "\n",
    "def is_number(f):\n",
    "    def inner(*args, **kwargs):\n",
    "        number = args[0]\n",
    "        if not isinstance(number, int):\n",
    "            raise TypeError(f'{number} Is not valid number')\n",
    "        return f(*args, **kwargs)\n",
    "    return inner\n",
    "\n",
    "\n",
    "@is_number\n",
    "@is_non_zero(check=False)\n",
    "def print_number(number):\n",
    "    print(number)\n",
    "\n",
    "\n",
    "print_number(0)"
   ]
  },
  {
   "cell_type": "code",
   "execution_count": 26,
   "id": "473344d1",
   "metadata": {},
   "outputs": [
    {
     "data": {
      "text/plain": [
       "False"
      ]
     },
     "execution_count": 26,
     "metadata": {},
     "output_type": "execute_result"
    }
   ],
   "source": [
    "[] is True"
   ]
  },
  {
   "cell_type": "code",
   "execution_count": 27,
   "id": "393e454d",
   "metadata": {},
   "outputs": [
    {
     "data": {
      "text/plain": [
       "False"
      ]
     },
     "execution_count": 27,
     "metadata": {},
     "output_type": "execute_result"
    }
   ],
   "source": [
    "[1,2,3] is True"
   ]
  },
  {
   "cell_type": "code",
   "execution_count": 28,
   "id": "cfb43b9c",
   "metadata": {},
   "outputs": [
    {
     "data": {
      "text/plain": [
       "False"
      ]
     },
     "execution_count": 28,
     "metadata": {},
     "output_type": "execute_result"
    }
   ],
   "source": [
    "[1,2,3] == True"
   ]
  },
  {
   "cell_type": "code",
   "execution_count": 29,
   "id": "cb72ad4a",
   "metadata": {},
   "outputs": [
    {
     "name": "stdout",
     "output_type": "stream",
     "text": [
      "3\n"
     ]
    }
   ],
   "source": [
    "if [1,2,3]:\n",
    "    print(len([1,2,3]))"
   ]
  },
  {
   "cell_type": "code",
   "execution_count": 30,
   "id": "ee1ecf82",
   "metadata": {},
   "outputs": [
    {
     "data": {
      "text/plain": [
       "False"
      ]
     },
     "execution_count": 30,
     "metadata": {},
     "output_type": "execute_result"
    }
   ],
   "source": [
    "[1] == True"
   ]
  },
  {
   "cell_type": "code",
   "execution_count": 31,
   "id": "e6f7c72f",
   "metadata": {},
   "outputs": [],
   "source": [
    "if []:\n",
    "    print(len([1,2,3]))"
   ]
  },
  {
   "cell_type": "code",
   "execution_count": 52,
   "id": "c2345311",
   "metadata": {},
   "outputs": [
    {
     "data": {
      "text/plain": [
       "False"
      ]
     },
     "execution_count": 52,
     "metadata": {},
     "output_type": "execute_result"
    }
   ],
   "source": [
    "all([1,True, 'ali', [False], None])"
   ]
  },
  {
   "cell_type": "code",
   "execution_count": 53,
   "id": "41f04510",
   "metadata": {},
   "outputs": [
    {
     "data": {
      "text/plain": [
       "True"
      ]
     },
     "execution_count": 53,
     "metadata": {},
     "output_type": "execute_result"
    }
   ],
   "source": [
    "any([None, False, [], '', 1000])"
   ]
  },
  {
   "cell_type": "code",
   "execution_count": 54,
   "id": "cbebccb4",
   "metadata": {},
   "outputs": [
    {
     "data": {
      "text/plain": [
       "1"
      ]
     },
     "execution_count": 54,
     "metadata": {},
     "output_type": "execute_result"
    }
   ],
   "source": [
    "min([1,2,3,4,5])"
   ]
  },
  {
   "cell_type": "code",
   "execution_count": 55,
   "id": "22a5ceaf",
   "metadata": {},
   "outputs": [
    {
     "data": {
      "text/plain": [
       "5"
      ]
     },
     "execution_count": 55,
     "metadata": {},
     "output_type": "execute_result"
    }
   ],
   "source": [
    "max([1,2,3,4,5])"
   ]
  },
  {
   "cell_type": "code",
   "execution_count": 56,
   "id": "b94cd042",
   "metadata": {},
   "outputs": [
    {
     "data": {
      "text/plain": [
       "[1, 2, 3]"
      ]
     },
     "execution_count": 56,
     "metadata": {},
     "output_type": "execute_result"
    }
   ],
   "source": [
    "f = filter(lambda x: x > 0, [0, 1, 2, -1, 3])\n",
    "list(f)"
   ]
  },
  {
   "cell_type": "code",
   "execution_count": 57,
   "id": "635e94aa",
   "metadata": {},
   "outputs": [
    {
     "data": {
      "text/plain": [
       "True"
      ]
     },
     "execution_count": 57,
     "metadata": {},
     "output_type": "execute_result"
    }
   ],
   "source": [
    "callable(lambda x: x > 0)"
   ]
  },
  {
   "cell_type": "code",
   "execution_count": 58,
   "id": "48bd54da",
   "metadata": {},
   "outputs": [
    {
     "data": {
      "text/plain": [
       "[-1]"
      ]
     },
     "execution_count": 58,
     "metadata": {},
     "output_type": "execute_result"
    }
   ],
   "source": [
    "f = filter(lambda x: x < 0, [0, 1, 2, -1, 3])\n",
    "list(f)"
   ]
  },
  {
   "cell_type": "code",
   "execution_count": 59,
   "id": "3f9c8df6",
   "metadata": {},
   "outputs": [
    {
     "data": {
      "text/plain": [
       "[0]"
      ]
     },
     "execution_count": 59,
     "metadata": {},
     "output_type": "execute_result"
    }
   ],
   "source": [
    "f = filter(lambda x: x == 0, [0, 1, 2, -1, 3])\n",
    "list(f)"
   ]
  },
  {
   "cell_type": "code",
   "execution_count": 15,
   "id": "53b4fbfb",
   "metadata": {},
   "outputs": [
    {
     "data": {
      "text/plain": [
       "[1, 2, -1, 3]"
      ]
     },
     "execution_count": 15,
     "metadata": {},
     "output_type": "execute_result"
    }
   ],
   "source": [
    "f = filter(lambda x: x, [0, 1, 2, -1, 3])\n",
    "list(f)"
   ]
  },
  {
   "cell_type": "code",
   "execution_count": null,
   "id": "0e8395fd",
   "metadata": {},
   "outputs": [],
   "source": []
  }
 ],
 "metadata": {
  "kernelspec": {
   "display_name": "Python 3 (ipykernel)",
   "language": "python",
   "name": "python3"
  },
  "language_info": {
   "codemirror_mode": {
    "name": "ipython",
    "version": 3
   },
   "file_extension": ".py",
   "mimetype": "text/x-python",
   "name": "python",
   "nbconvert_exporter": "python",
   "pygments_lexer": "ipython3",
   "version": "3.9.5"
  }
 },
 "nbformat": 4,
 "nbformat_minor": 5
}
